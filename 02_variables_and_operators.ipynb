{
  "nbformat": 4,
  "nbformat_minor": 0,
  "metadata": {
    "colab": {
      "provenance": []
    },
    "kernelspec": {
      "name": "python3",
      "display_name": "Python 3"
    },
    "language_info": {
      "name": "python"
    }
  },
  "cells": [
    {
      "cell_type": "code",
      "execution_count": 2,
      "metadata": {
        "colab": {
          "base_uri": "https://localhost:8080/"
        },
        "id": "thLWnd3xVy48",
        "outputId": "9c113a1b-2778-4ad8-977a-3af1194f7d3e"
      },
      "outputs": [
        {
          "output_type": "stream",
          "name": "stdout",
          "text": [
            "Jeeya 19 4.9 True\n"
          ]
        }
      ],
      "source": [
        "name = \"Jeeya\"\n",
        "age = 19\n",
        "height = 4.9\n",
        "is_student = True\n",
        "print(name, age, height, is_student)"
      ]
    },
    {
      "cell_type": "code",
      "source": [
        "print(type(name))\n",
        "print(type(height))\n",
        "print(type(age))\n",
        "print(type(is_student))"
      ],
      "metadata": {
        "colab": {
          "base_uri": "https://localhost:8080/"
        },
        "id": "LqOzbV_yW8rv",
        "outputId": "aea10a43-46dd-4284-e71b-4388a34c4193"
      },
      "execution_count": 3,
      "outputs": [
        {
          "output_type": "stream",
          "name": "stdout",
          "text": [
            "<class 'str'>\n",
            "<class 'float'>\n",
            "<class 'int'>\n",
            "<class 'bool'>\n"
          ]
        }
      ]
    },
    {
      "cell_type": "code",
      "source": [
        "int_var = 10\n",
        "float_var = 3.4\n",
        "str_var = \"Python\"\n",
        "bool_var = False\n",
        "list_var = [1,2,3]\n",
        "tuple_var = (1,2)\n",
        "set_var = {1,2,3,4}\n",
        "dict_var = {\"name\":\"Jeeya\",\"age\":19}\n",
        "print(type(list_var))"
      ],
      "metadata": {
        "colab": {
          "base_uri": "https://localhost:8080/"
        },
        "id": "1dRBXUB6Xqn-",
        "outputId": "1d9cc60c-3dd1-44f9-9b33-a6b78e823c9d"
      },
      "execution_count": 5,
      "outputs": [
        {
          "output_type": "stream",
          "name": "stdout",
          "text": [
            "<class 'list'>\n"
          ]
        }
      ]
    },
    {
      "cell_type": "code",
      "source": [
        "num = 50\n",
        "num_int = int(num)\n",
        "num_float = float(num)\n",
        "print(num_int + 10)\n",
        "print(num_float - 0.3)"
      ],
      "metadata": {
        "colab": {
          "base_uri": "https://localhost:8080/"
        },
        "id": "gw9PUqh6eLbh",
        "outputId": "705bf893-bddd-4650-beab-449b9e02b190"
      },
      "execution_count": 6,
      "outputs": [
        {
          "output_type": "stream",
          "name": "stdout",
          "text": [
            "60\n",
            "49.7\n"
          ]
        }
      ]
    },
    {
      "cell_type": "code",
      "source": [
        "x = 100\n",
        "x_str = str(x)\n",
        "print(\"My score is \"+ x_str)"
      ],
      "metadata": {
        "colab": {
          "base_uri": "https://localhost:8080/"
        },
        "id": "2IrTXCqMegkH",
        "outputId": "0166332e-6872-46f0-d254-91fc614cc5bc"
      },
      "execution_count": 11,
      "outputs": [
        {
          "output_type": "stream",
          "name": "stdout",
          "text": [
            "My score is 100\n"
          ]
        }
      ]
    },
    {
      "cell_type": "code",
      "source": [
        "a = 10\n",
        "b = 3\n",
        "print(a+b)\n",
        "print(a-b)\n",
        "print(a*b)\n",
        "print(a/b)\n",
        "print(a//b)\n",
        "print(a%b)\n",
        "print(a**b)"
      ],
      "metadata": {
        "colab": {
          "base_uri": "https://localhost:8080/"
        },
        "id": "vCezDhKze8Zx",
        "outputId": "05838c7f-5cbe-4500-ba4b-31684ea0c6a5"
      },
      "execution_count": 12,
      "outputs": [
        {
          "output_type": "stream",
          "name": "stdout",
          "text": [
            "13\n",
            "7\n",
            "30\n",
            "3.3333333333333335\n",
            "3\n",
            "1\n",
            "1000\n"
          ]
        }
      ]
    },
    {
      "cell_type": "code",
      "source": [
        "x = 5\n",
        "y = 10\n",
        "print(x>y)\n",
        "print(x==y)\n",
        "print(x!=y)\n",
        "print(x>2 and y<20)\n",
        "print(x<2 or y>5)\n",
        "print(not(x<y))"
      ],
      "metadata": {
        "colab": {
          "base_uri": "https://localhost:8080/"
        },
        "id": "TOQTEk8FfVVs",
        "outputId": "ad5c3d46-2d97-4622-bfbe-93bb78b6bf3f"
      },
      "execution_count": 13,
      "outputs": [
        {
          "output_type": "stream",
          "name": "stdout",
          "text": [
            "False\n",
            "False\n",
            "True\n",
            "True\n",
            "True\n",
            "False\n"
          ]
        }
      ]
    },
    {
      "cell_type": "code",
      "source": [
        "my_list = [1,2,3,4]\n",
        "print(3 in my_list)\n",
        "print(5 not in my_list)"
      ],
      "metadata": {
        "colab": {
          "base_uri": "https://localhost:8080/"
        },
        "id": "Udg3ttQsgSai",
        "outputId": "bcf60b14-669b-4739-f72c-5b22474a6fad"
      },
      "execution_count": 14,
      "outputs": [
        {
          "output_type": "stream",
          "name": "stdout",
          "text": [
            "True\n",
            "True\n"
          ]
        }
      ]
    },
    {
      "cell_type": "code",
      "source": [
        "a = [1,2]\n",
        "b = [1,2]\n",
        "print(a is b)\n",
        "print(a == b)"
      ],
      "metadata": {
        "colab": {
          "base_uri": "https://localhost:8080/"
        },
        "id": "DMo84tyUgtee",
        "outputId": "6ce2d183-56ad-4941-8034-af0cd8a715c5"
      },
      "execution_count": 15,
      "outputs": [
        {
          "output_type": "stream",
          "name": "stdout",
          "text": [
            "False\n",
            "True\n"
          ]
        }
      ]
    }
  ]
}